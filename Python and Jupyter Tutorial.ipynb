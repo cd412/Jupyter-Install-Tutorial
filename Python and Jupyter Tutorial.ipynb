{
 "cells": [
  {
   "cell_type": "markdown",
   "metadata": {},
   "source": [
    "# How to Install Python 3 and Jupyter Notebook\n",
    "### Chris Defreitas\n",
    "### 7 September 2018\n",
    "### https://github.com/cd412/Jupyter-Install-Tutorial\n",
    "\n",
    "## Install Python 3\n",
    "\n",
    "1.\tVisit Python.org \n",
    "2.\tClick the link to download the latest version of Python. In this case it is Python 3.7\n",
    "    <img src=\"pic1.png\">\n",
    "3.\tScroll down to the Files and click the link for Windows x86-64 web-based installer\n",
    "    <img src=\"pic2.png\">\n",
    "4.\tA file will start to download. Open this file and start the installation. Select the option to Add Python 3.7 to PATH. Then select Install Now.\n",
    "    <img src=\"pic3.png\">\n",
    "5.\tAllow the access to the computer and close the installer after the process in completed.\n",
    "\n",
    "## Verify that Python is Installed Properly\n",
    "6.\tClick the Windows Start icon, search “CMD,” and open the command prompt. \n",
    "7.\tType the word “Python” and press Enter.\n",
    "    <img src=\"pic4.png\">\n",
    "8.\tIf Python is successfully installed and added to PATH then you will get the message above. If not, reopen the web-based installer and edit the settings to add this version of Python to the environment variables.\n",
    "9.\tClose the command prompt.\n",
    "\n",
    "## Install Jupyter Notebook Using pip\n",
    "10.\tOpen a new command prompt and enter the following text “python -m pip install jupyter” then press enter to install Jupyter Notebook.\n",
    "    <img src=\"pic5.png\">\n",
    "11.\tEnter “Jupyter notebook” on the command prompt and press enter to open the notebook in the web browser.\n",
    "\n",
    "## Run Hello World App\n",
    "12. Navigate to a folder to create a test application. Select New>Python3\n",
    "    <img src=\"pic6.png\">\n",
    "13. Rename the notebook \"Hello World\". Then type the code shown below. At this point, Python and Jupyter Notebook are installed and working properly. \n",
    "    "
   ]
  },
  {
   "cell_type": "code",
   "execution_count": 3,
   "metadata": {},
   "outputs": [
    {
     "name": "stdout",
     "output_type": "stream",
     "text": [
      "Hello world!\n"
     ]
    }
   ],
   "source": [
    "print(\"Hello world!\")"
   ]
  }
 ],
 "metadata": {
  "kernelspec": {
   "display_name": "Python 3",
   "language": "python",
   "name": "python3"
  },
  "language_info": {
   "codemirror_mode": {
    "name": "ipython",
    "version": 3
   },
   "file_extension": ".py",
   "mimetype": "text/x-python",
   "name": "python",
   "nbconvert_exporter": "python",
   "pygments_lexer": "ipython3",
   "version": "3.7.0"
  }
 },
 "nbformat": 4,
 "nbformat_minor": 2
}
